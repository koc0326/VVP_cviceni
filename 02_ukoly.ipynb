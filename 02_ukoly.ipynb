{
 "cells": [
  {
   "cell_type": "code",
   "execution_count": 2,
   "metadata": {},
   "outputs": [],
   "source": [
    "import math\n",
    "import numpy as np\n",
    "import decimal"
   ]
  },
  {
   "attachments": {},
   "cell_type": "markdown",
   "metadata": {},
   "source": [
    "# Prostory jmen a obor platnosti proměnných:\n",
    "- Upravte funkci nalézající prvočísla tak, aby ukládala již spočítané prvočísla do listu v defaultním argumentu funkce. \n"
   ]
  },
  {
   "cell_type": "code",
   "execution_count": 15,
   "metadata": {},
   "outputs": [
    {
     "data": {
      "text/plain": [
       "[3, 5, 7, 9, 11, 13, 15, 17, 19, 21]"
      ]
     },
     "execution_count": 15,
     "metadata": {},
     "output_type": "execute_result"
    }
   ],
   "source": [
    "def Jeprvocislo(a):\n",
    "    for i in range(2,a):\n",
    "        if a%i == 0:\n",
    "            return False\n",
    "        return True\n",
    "\n",
    "Jeprvocislo(6)\n",
    "\n",
    "#cisla=[]\n",
    "def prvocisla(n,cisla=[]):\n",
    "    count = 0\n",
    "    x = 1\n",
    "    prime=0\n",
    "    while count < n:\n",
    "        prime=Jeprvocislo(x)\n",
    "        if prime == True:\n",
    "            cisla.append(x)\n",
    "            count += 1\n",
    "        x += 1\n",
    "    return cisla\n",
    "\n",
    "prvocisla(10)"
   ]
  },
  {
   "attachments": {},
   "cell_type": "markdown",
   "metadata": {},
   "source": [
    "\n",
    "# Jupyter magics:\n",
    "- použijte funkci %%writefile a pomocí ní (a kopie funkcí z posledního DU) vytvořte .py soubor sloužící jako modul mající tři funkce viz minulý DU\n",
    "- Použijte magic příkazy %time %timeit %%time a %%timeit k měření času běhu různých částí kódu (například funkcí z minulého DU).\n"
   ]
  },
  {
   "cell_type": "code",
   "execution_count": 16,
   "metadata": {},
   "outputs": [
    {
     "name": "stdout",
     "output_type": "stream",
     "text": [
      "Overwriting soubor.py\n"
     ]
    }
   ],
   "source": [
    "%%writefile soubor.py\n",
    "\n",
    "import numpy as np\n",
    "import math\n",
    "a=100\n",
    "n=10\n",
    "def odmocnina (a,n):\n",
    "    x = [0] * n\n",
    "    x[0] = a\n",
    "    for i in range(n-1):  \n",
    "        #print(i)\n",
    "        x[i+1] = (a/x[i] + x[i])/2\n",
    "        #print(x) \n",
    "    #print(x[n-1])\n",
    "    return x[n-1]\n",
    "odmocnina(a,n)\n",
    "np.sqrt(100)\n",
    "\n",
    "def Uhelniky(n):\n",
    "    an,bn = 1,1\n",
    "    \n",
    "    if n == 0:\n",
    "        return S\n",
    "    else:\n",
    "        for i in range(0,n+1):\n",
    "            #print(i)\n",
    "            if i == 0:\n",
    "                an = 1\n",
    "                bn = 1\n",
    "                vn = math.sqrt(an**2 - ((bn/2)**2))\n",
    "                #print(\"vn\", vn)\n",
    "                S = 6*(2**i)*bn*(vn/2)\n",
    "                #print(\"S=\",S)\n",
    "            if i > 0:\n",
    "                #print(\"vn\", vn)\n",
    "                b2n = math.sqrt((bn/2)**2 + (1-vn)**2)\n",
    "                #print(\"b2n = \", b2n)\n",
    "                v2n = math.sqrt(an**2 - (b2n/2)**2)\n",
    "                #print(\"v2n=\",v2n)\n",
    "                S = 6*(2**i)*b2n*v2n/2 \n",
    "                #print(\"S=\",S)\n",
    "                i = i + 1\n",
    "                bn = b2n\n",
    "                vn = v2n\n",
    "    return S\n",
    "\n",
    "\n",
    "def pi3(n):\n",
    "    #a = [0]* (n+1)\n",
    "    #a[1] = (1/2) * (1/2**3)\n",
    "    a1 = (1/2) * (1/2**3)\n",
    "    s = 1/3* a1\n",
    "    for i in range(2,n+1):\n",
    "        a2 = a1 * ((2*i-3)/(2*i))*(1/(2**2))\n",
    "        a1 = a2\n",
    "        s = s +  1/(2*i+1)*a2\n",
    "    pi = 12 * (-np.sqrt(3)/8 + 1/2 - s)\n",
    "    return pi"
   ]
  },
  {
   "cell_type": "code",
   "execution_count": 17,
   "metadata": {},
   "outputs": [],
   "source": [
    "def Uhelniky(n):\n",
    "    an,bn = 1,1\n",
    "    \n",
    "    if n == 0:\n",
    "        return S\n",
    "    else:\n",
    "        for i in range(0,n+1):\n",
    "            #print(i)\n",
    "            if i == 0:\n",
    "                an = 1\n",
    "                bn = 1\n",
    "                vn = math.sqrt(an**2 - ((bn/2)**2))\n",
    "                #print(\"vn\", vn)\n",
    "                S = 6*(2**i)*bn*(vn/2)\n",
    "                #print(\"S=\",S)\n",
    "            if i > 0:\n",
    "                #print(\"vn\", vn)\n",
    "                b2n = math.sqrt((bn/2)**2 + (1-vn)**2)\n",
    "                #print(\"b2n = \", b2n)\n",
    "                v2n = math.sqrt(an**2 - (b2n/2)**2)\n",
    "                #print(\"v2n=\",v2n)\n",
    "                S = 6*(2**i)*b2n*v2n/2 \n",
    "                #print(\"S=\",S)\n",
    "                i = i + 1\n",
    "                bn = b2n\n",
    "                vn = v2n\n",
    "    return S"
   ]
  },
  {
   "cell_type": "code",
   "execution_count": 18,
   "metadata": {},
   "outputs": [],
   "source": [
    "def pi3(n):\n",
    "    #a = [0]* (n+1)\n",
    "    #a[1] = (1/2) * (1/2**3)\n",
    "    a1 = (1/2) * (1/2**3)\n",
    "    s = 1/3* a1\n",
    "    for i in range(2,n+1):\n",
    "        a2 = a1 * ((2*i-3)/(2*i))*(1/(2**2))\n",
    "        a1 = a2\n",
    "        s = s +  1/(2*i+1)*a2\n",
    "    pi = 12 * (-np.sqrt(3)/8 + 1/2 - s)\n",
    "    return pi"
   ]
  },
  {
   "cell_type": "code",
   "execution_count": 19,
   "metadata": {},
   "outputs": [],
   "source": [
    "def odmocnina (a,n):\n",
    "    x = [0] * n\n",
    "    x[0] = a\n",
    "    for i in range(n-1):  \n",
    "        #print(i)\n",
    "        x[i+1] = (a/x[i] + x[i])/2\n",
    "        #print(x) \n",
    "    #print(x[n-1])\n",
    "    return x[n-1]\n"
   ]
  },
  {
   "cell_type": "code",
   "execution_count": 21,
   "metadata": {},
   "outputs": [
    {
     "name": "stdout",
     "output_type": "stream",
     "text": [
      "Wall time: 0 ns\n",
      "Wall time: 0 ns\n",
      "Wall time: 40 ms\n"
     ]
    },
    {
     "data": {
      "text/plain": [
       "3.1415926535897936"
      ]
     },
     "execution_count": 21,
     "metadata": {},
     "output_type": "execute_result"
    }
   ],
   "source": [
    "%time odmocnina(567432,10)\n",
    "%time Uhelniky(111)\n",
    "%time pi3(111111)"
   ]
  },
  {
   "cell_type": "markdown",
   "metadata": {},
   "source": [
    "\n",
    "# Práce s řetězci:\n",
    "\n",
    "- Použíjte funkce z minulého úkolu a v cyklu spočtěte $\\pi$ s různým $n$. Pomocí f-strings vypište výsledky ve formátu \"n = 5, pi = 3.14159, počet správných cifer = 5\".\n"
   ]
  },
  {
   "cell_type": "code",
   "execution_count": 22,
   "metadata": {},
   "outputs": [],
   "source": [
    "from decimal import getcontext, Decimal as D"
   ]
  },
  {
   "cell_type": "code",
   "execution_count": 31,
   "metadata": {},
   "outputs": [],
   "source": [
    "def Uhelniky(n):\n",
    "    an,bn = 1,1\n",
    "    \n",
    "    if n == 0:\n",
    "        return S\n",
    "    else:\n",
    "        for i in range(0,n+1):\n",
    "            #print(i)\n",
    "            if i == 0:\n",
    "                an = 1\n",
    "                bn = 1\n",
    "                vn = math.sqrt(an**2 - ((bn/2)**2))\n",
    "                #print(\"vn\", vn)\n",
    "                S = 6*(2**i)*bn*(vn/2)\n",
    "                #print(\"S=\",S)\n",
    "            if i > 0:\n",
    "                #print(\"vn\", vn)\n",
    "                b2n = math.sqrt((bn/2)**2 + (1-vn)**2)\n",
    "                #print(\"b2n = \", b2n)\n",
    "                v2n = math.sqrt(an**2 - (b2n/2)**2)\n",
    "                #print(\"v2n=\",v2n)\n",
    "                S = 6*(2**i)*b2n*v2n/2 \n",
    "                #print(\"S=\",S)\n",
    "                i = i + 1\n",
    "                bn = b2n\n",
    "                vn = v2n\n",
    "    return S    \n"
   ]
  },
  {
   "cell_type": "code",
   "execution_count": 57,
   "metadata": {},
   "outputs": [
    {
     "name": "stdout",
     "output_type": "stream",
     "text": [
      "Uhelniky(n): n=5, pi=3.1410319508905102, pocet spravnych cifer 3\n",
      "Uhelniky(n): n=6, pi=3.1414524722854624, pocet spravnych cifer 3\n",
      "Uhelniky(n): n=7, pi=3.1415576079118575, pocet spravnych cifer 4\n",
      "Uhelniky(n): n=8, pi=3.1415838921483186, pocet spravnych cifer 5\n",
      "Uhelniky(n): n=9, pi=3.1415904632280505, pocet spravnych cifer 5\n"
     ]
    }
   ],
   "source": [
    "math_pi=math.pi\n",
    "for i in range(5,10):\n",
    "    placesU = math.floor(abs(math.log10(math_pi-Uhelniky(i))))\n",
    "    print(f\"Uhelniky(n): n={i}, pi={Uhelniky(i)}, pocet spravnych cifer {placesU}\")\n",
    "    "
   ]
  },
  {
   "cell_type": "markdown",
   "metadata": {},
   "source": [
    "\n",
    "# Generátory a iterátory:\n",
    "\n",
    "- Napište generátor (funkci), který vytváří Fibonacciho posloupnost a vrátí prvních $n$ členů.\n"
   ]
  },
  {
   "cell_type": "code",
   "execution_count": 65,
   "metadata": {},
   "outputs": [],
   "source": [
    "def Fibonaci(n):\n",
    "    count=0\n",
    "    i=0\n",
    "    j=1\n",
    "    members=[]\n",
    "    #members.append(i)\n",
    "    #members.append(1)\n",
    "    if n==1:\n",
    "        members.append(i)\n",
    "        return members\n",
    "    else:\n",
    "        while count < n:\n",
    "            next=i+j\n",
    "            print(i)\n",
    "            members.append(i)\n",
    "            i=j\n",
    "            j=next\n",
    "            count+=1\n",
    "    return members\n"
   ]
  },
  {
   "cell_type": "code",
   "execution_count": 66,
   "metadata": {},
   "outputs": [
    {
     "name": "stdout",
     "output_type": "stream",
     "text": [
      "0\n",
      "1\n",
      "1\n",
      "2\n",
      "3\n",
      "5\n",
      "8\n"
     ]
    },
    {
     "data": {
      "text/plain": [
       "[0, 1, 1, 2, 3, 5, 8]"
      ]
     },
     "execution_count": 66,
     "metadata": {},
     "output_type": "execute_result"
    }
   ],
   "source": [
    "Fibonaci(7)"
   ]
  },
  {
   "cell_type": "markdown",
   "metadata": {},
   "source": [
    "\n",
    "# List comprehension:\n",
    "- Vytvořte seznam čísel od 1 do 10 pomocí list comprehension.\n",
    "- Vytvořte seznam druhých mocnin čísel od 1 do 10 pomocí list comprehension.\n",
    "- Vytvořte seznam prvočísel od 1 do 100 pomocí list comprehension. Hint (použijte funkci all() na generátor testující dělitelnost).\n"
   ]
  },
  {
   "cell_type": "code",
   "execution_count": 1,
   "metadata": {},
   "outputs": [
    {
     "data": {
      "text/plain": [
       "[2,\n",
       " 3,\n",
       " 5,\n",
       " 7,\n",
       " 11,\n",
       " 13,\n",
       " 17,\n",
       " 19,\n",
       " 23,\n",
       " 29,\n",
       " 31,\n",
       " 37,\n",
       " 41,\n",
       " 43,\n",
       " 47,\n",
       " 53,\n",
       " 59,\n",
       " 61,\n",
       " 67,\n",
       " 71,\n",
       " 73,\n",
       " 79,\n",
       " 83,\n",
       " 89,\n",
       " 97]"
      ]
     },
     "execution_count": 1,
     "metadata": {},
     "output_type": "execute_result"
    }
   ],
   "source": [
    "list = [i for i in range(1,11)]\n",
    "list\n",
    "mocniny = [i**2 for i in range(1,11)]\n",
    "mocniny\n",
    "primes = [i for i in range(2,101) if all( i % y != 0 for y in range(2,i))]\n",
    "primes"
   ]
  },
  {
   "cell_type": "markdown",
   "metadata": {},
   "source": [
    "\n",
    "# Práce se soubory:\n",
    "- Pomocí %%writefile vytvořte soubor s nějakým textem.\n",
    "- Otevřete soubor pro čtení a vypište jeho obsah.\n",
    "- Otevřete jiný soubor pro zápis a napište do něj textový řetězec.\n",
    "- Pomocí f-strings zapište do souboru tabulku čísel od 1 do 10, jejich druhých mocnin a jejich druhých odmocnin."
   ]
  },
  {
   "cell_type": "code",
   "execution_count": 100,
   "metadata": {},
   "outputs": [
    {
     "name": "stdout",
     "output_type": "stream",
     "text": [
      "Writing text.txt\n"
     ]
    }
   ],
   "source": [
    "%%writefile text.txt\n",
    "Lorem ipsum dolor sit amet, consectetur adipiscing elit. \n",
    "Vivamus eget gravida erat, quis ultrices massa.\n",
    "Suspendisse commodo ante augue, et cursus nibh consectetur vel.\n",
    "Nulla mattis convallis nibh a scelerisque. Nullam at porttitor arcu.\n",
    "Maecenas eleifend ex sapien tristique, a sagittis nulla fringilla."
   ]
  },
  {
   "cell_type": "code",
   "execution_count": 102,
   "metadata": {},
   "outputs": [
    {
     "name": "stdout",
     "output_type": "stream",
     "text": [
      "Lorem ipsum dolor sit amet, consectetur adipiscing elit. \n",
      "Vivamus eget gravida erat, quis ultrices massa.\n",
      "Suspendisse commodo ante augue, et cursus nibh consectetur vel.\n",
      "Nulla mattis convallis nibh a scelerisque. Nullam at porttitor arcu.\n",
      "Maecenas eleifend ex sapien tristique, a sagittis nulla fringilla.\n",
      "\n"
     ]
    }
   ],
   "source": [
    "soubor = open(\"text.txt\", \"r\")\n",
    "print(soubor.read())\n",
    "soubor.close()"
   ]
  },
  {
   "cell_type": "code",
   "execution_count": 109,
   "metadata": {},
   "outputs": [],
   "source": [
    "with open(\"zapis.csv\", \"w\") as soubor:\n",
    "    soubor.write(\"Nejaky text \\n\")\n",
    "    for i in range(1, 11):\n",
    "        soubor.write(f\"{i*i}, {np.sqrt(i)} \\n\")\n"
   ]
  },
  {
   "cell_type": "code",
   "execution_count": 111,
   "metadata": {},
   "outputs": [
    {
     "name": "stdout",
     "output_type": "stream",
     "text": [
      "Nejaky text \n",
      "1, 1.0 \n",
      "4, 1.4142135623730951 \n",
      "9, 1.7320508075688772 \n",
      "16, 2.0 \n",
      "25, 2.23606797749979 \n",
      "36, 2.449489742783178 \n",
      "49, 2.6457513110645907 \n",
      "64, 2.8284271247461903 \n",
      "81, 3.0 \n",
      "100, 3.1622776601683795 \n"
     ]
    }
   ],
   "source": [
    "%less zapis.csv"
   ]
  },
  {
   "attachments": {},
   "cell_type": "markdown",
   "metadata": {},
   "source": [
    "# Domácí úkol:\n",
    "Pomocí vlastních tříd a dědičnosti vytvořte \"soubor tříd\" = nástroj pro derivaci funkcí.\n",
    "\n",
    "Konkrétněji:\n",
    "- Vytvořte třídu **Operator**\n",
    "    - Třída bude mít metody:\n",
    "        - `__init__()` - inicializuje operátor (zde stačí `pass`)\n",
    "        - `__str__()` - vrací řetězec reprezentující operátor\n",
    "        - `__repr__()` - vrací řetězec reprezentující operátor\n",
    "- Vytvořte třídu **BinaryOperator**, která bude dědit od třídy Operator\n",
    "    - Třída bude mít atributy:\n",
    "        - `levy_argument` - levý operand\n",
    "        - `pravy_argument` - pravý operand\n",
    "    - Třída bude mít metody:\n",
    "        - `__init__()` - inicializuje operátor, přiřadí argumenty\n",
    "        - `__str__()` - vrací řetězec reprezentující operátor\n",
    "        - `__repr__()` - vrací řetězec reprezentující operátor\n",
    "        - `diff()` - vrací derivaci operátoru\n",
    "- Vytvořte třídu **UnaryOperator**, která bude dědit od třídy Operator\n",
    "    - Třída bude mít atributy:\n",
    "        - `argument` - argument funkce \n",
    "    - Třída bude mít metody:\n",
    "        - `__init__()` - inicializuje operátor, přiřadí argument\n",
    "        - `__str__()` - vrací řetězec reprezentující operátor\n",
    "        - `__repr__()` - vrací řetězec reprezentující operátor\n",
    "        - `diff()` - vrací derivaci operátoru\n",
    "\n",
    "Pro počítání derivací použijte standardní pravidla:\n",
    "- derivace součtu je součet derivací\n",
    "- pravidlo pro derivaci součinu\n",
    "- derivace funkce je derivovaná funkce násobená derivovaným argumentem\n",
    "\n",
    "Pro **BinaryOperator** a **UnaryOperator** implementujte také metody implementující standardní operátory:\n",
    "- `__add__()` - implementuje operátor `+`\n",
    "- `__sub__()` - implementuje operátor `-`\n",
    "- `__mul__()` - implementuje operátor `*`\n",
    "\n",
    "Pro **BinaryOperator** implementujte dvě dceřiné třídy:\n",
    "- **Addition** - implementuje operátor `+`\n",
    "- **Multiplication** - implementuje operátor `*`\n",
    "\n",
    "Pro **UnaryOperator** implementujte tyto dceřiné třídy:\n",
    "- **exp** - implementuje funkci `exp`\n",
    "- **sin** - implementuje funkci `sin`\n",
    "- **cos** - implementuje funkci `cos`\n",
    "- **ln** - implementuje funkci `ln`\n",
    "- **frc** - implementuje funkci `1/x`\n",
    "- **identity** - implementuje identitu `x`\n",
    "- **cst** - implementuje konstantu `c`\n",
    "- **mocnina** - implementuje mocninu `x^n`\n",
    "\n",
    "U všech funckí implementujte adekvátně metodu `diff()` a `__str__()`, tak aby se funkce vypisovaly v přehledné podobě.\n",
    "\n",
    "Ozkoušejte na následujících funkcích:\n",
    "- $sin(x + cos(x*x)) + 1$\n",
    "- $x^2 + 2x + 1 + 2x^2$\n",
    "- $x^2 + 2x + exp(x)$"
   ]
  },
  {
   "cell_type": "code",
   "execution_count": 76,
   "metadata": {},
   "outputs": [],
   "source": [
    "# kostra k doplnění, místa označená TODO doplňte\n",
    "\n",
    "class Operator:\n",
    "    def __init__(self):\n",
    "        pass\n",
    "    \n",
    "    def __str__(self):\n",
    "        return type(self).__name__\n",
    "    \n",
    "    def __repr__(self):\n",
    "        return self.__str__()\n",
    "    \n",
    "    def diff(self):\n",
    "        pass\n",
    "    \n",
    "    def __add__(self, other):\n",
    "        # TODO (použijte Addition)\n",
    "        return Addition(self,other)\n",
    "\n",
    "    \n",
    "    def __sub__(self, other):\n",
    "        # TODO (použijte Addition a Multiplication se zápornou konstantu)\n",
    "        return Addition(self, Multiplication(-1,other))\n",
    "    \n",
    "    def __mul__(self, other):\n",
    "        # TODO (použijte Multiplication)\n",
    "        return Multiplication(self,other)\n",
    "    \n",
    "class BinaryOperator(Operator):\n",
    "    def __init__(self, levy_argument, pravy_argument):\n",
    "        self.levy_argument = levy_argument\n",
    "        self.pravy_argument = pravy_argument\n",
    "        \n",
    "class UnaryOperator(Operator):\n",
    "    def __init__(self, argument):\n",
    "        self.argument = argument\n",
    "    \n",
    "    def __str__(self):\n",
    "        return type(self).__name__ + \"(\" + str(self.argument) + \")\"\n",
    "        \n",
    "class Addition(BinaryOperator):\n",
    "    def __str__(self):\n",
    "        # TODO vypíšeme něco jako (levy_argument)+(pravy_argument)\n",
    "        return \"(\" + str(self.levy_argument) + \")+(\" + str(self.pravy_argument) + \")\"\n",
    "\n",
    "    def diff(self):\n",
    "        # TODO\n",
    "        return Addition(self.levy_argument.diff(), self.pravy_argument.diff())\n",
    "    \n",
    "    def simplify(self):\n",
    "        if (self.levy_argument == 0 and isinstance(self.pravy_argument,cst)):\n",
    "            return self.pravy_argument\n",
    "        if (self.pravy_argument == 0 and isinstance(self.levy_argument,cst)):\n",
    "            return self.levy_argument\n",
    "        if (self.levy_argument == 0 and self.pravy_argument == 0):\n",
    "            return cst(0)\n",
    "        if (isinstance(self.levy_argument,cst) and isinstance(self.pravy_argument,cst)):\n",
    "            return (self.levy_argument.value + self.pravy_argument.value)\n",
    "    \n",
    "\n",
    "class Multiplication(BinaryOperator):\n",
    "    def __str__(self):\n",
    "        # TODO vypíšeme něco jako (levy_argument)*(pravy_argument)\n",
    "        return \"(\" + str(self.levy_argument) + \")*(\" + str(self.pravy_argument) + \")\"\n",
    "    def diff(self):\n",
    "        # TODO\n",
    "        return Addition(Multiplication(self.levy_argument.diff(),self.pravy_argument), Multiplication(self.levy_argument,self.pravy_argument.diff()))\n",
    "    \n",
    "    def simplify(self):\n",
    "        if (self.levy_argument == 0 or self.pravy_argument == 0):\n",
    "            return cst(0)\n",
    "        if (self.levy_argument == self.pravy_argument):\n",
    "            return mocnina(self.levy_argument,2)\n",
    "        if (self.levy_argument == 1):\n",
    "            return self.pravy_argument\n",
    "        if (self.pravy_argument == 1):\n",
    "            return self.levy_argument\n",
    "        if(isinstance(self.levy_argument, cst) and isinstance(self.pravy_argument, cst)):\n",
    "            return self.levy_argument.value * self.pravy_argument.value\n",
    "\n",
    "class cst(UnaryOperator):\n",
    "    def __init__(self, value):\n",
    "        self.value = value\n",
    "    def __str__(self):\n",
    "        # TODO vypíšeme něco jako value\n",
    "        return str(self.value)\n",
    "    def diff(self):\n",
    "        # TODO\n",
    "        return cst(0)\n",
    "    \n",
    "class identity(UnaryOperator):\n",
    "    def __init__(self):\n",
    "        pass\n",
    "    def __str__(self):\n",
    "        # TODO vypíšeme něco jako x  \n",
    "        var = \"x\" \n",
    "        return str(var)\n",
    "    def diff(self):\n",
    "        # TODO\n",
    "        return cst(1)\n",
    "    \n",
    "class mocnina(UnaryOperator):\n",
    "    def __init__(self, argument, exponent):\n",
    "        self.argument = argument\n",
    "        self.exponent = exponent\n",
    "    def __str__(self):\n",
    "        # TODO vypíšeme něco jako argument^exponent\n",
    "        return str(self.argument) + \"^\" + str(self.exponent)\n",
    "    def diff(self):\n",
    "        # TODO\n",
    "        return Multiplication(self.exponent, mocnina(self.argument, self.exponent-1))\n",
    "    \n",
    "    def simplify(self):\n",
    "        if (self.exponent == 0):\n",
    "            return cst(1)\n",
    "        if (self.exponent ==1):\n",
    "            return self.argument\n",
    "\n",
    "class sin(UnaryOperator):\n",
    "    def __str__(self):\n",
    "        return \"sin(\" + str(self.argument) + \")\"\n",
    "\n",
    "    def diff(self):\n",
    "        # TODO\n",
    "        return Multiplication(cos(self.argument),self.argument.diff())\n",
    "\n",
    "class cos(UnaryOperator):\n",
    "    def __str__(self):\n",
    "        return \"cos(\" + str(self.argument) + \")\"\n",
    "    def diff(self):\n",
    "        # TODO\n",
    "        return Multiplication(-1,Multiplication(sin(self.argument),self.argument.diff()))\n",
    "\n",
    "class exp(UnaryOperator):\n",
    "    def __str__(self):\n",
    "        return \"(e^\" + str(self.argument) + \")\"\n",
    "    def diff(self):\n",
    "        # TODO\n",
    "        return exp(self.argument)\n",
    "    \n",
    "class ln(UnaryOperator):\n",
    "    def __str__(self):\n",
    "        return \"ln(\" + str(self.argument) + \")\"\n",
    "    def diff(self):\n",
    "        # TODO\n",
    "        return Multiplication(frc(self.argument), self.argument.diff())\n",
    "\n",
    "class frc(UnaryOperator):\n",
    "    def __str__(self):\n",
    "        # TODO vypíšeme něco jako 1/(argument)\n",
    "        return \"1/(\" + str(self.argument) + \")\"\n",
    "    \n",
    "    def diff(self):\n",
    "        # TODO\n",
    "        return Multiplication(-1, frc(exp(self.argument, 2)))\n"
   ]
  },
  {
   "cell_type": "code",
   "execution_count": 77,
   "metadata": {},
   "outputs": [
    {
     "data": {
      "text/plain": [
       "(((2)*(x^1))+(((0)*(x))+((2)*(1))))+((e^x))"
      ]
     },
     "execution_count": 77,
     "metadata": {},
     "output_type": "execute_result"
    }
   ],
   "source": [
    "x = identity()\n",
    "f = mocnina(x,2) + cst(2)*x + exp(x)\n",
    "f.diff()"
   ]
  },
  {
   "cell_type": "code",
   "execution_count": 78,
   "metadata": {},
   "outputs": [
    {
     "name": "stdout",
     "output_type": "stream",
     "text": [
      "0\n"
     ]
    }
   ],
   "source": [
    "x =identity()\n",
    "f = x * 0\n",
    "print(f.simplify())"
   ]
  },
  {
   "cell_type": "code",
   "execution_count": 79,
   "metadata": {},
   "outputs": [
    {
     "name": "stdout",
     "output_type": "stream",
     "text": [
      "(sin((x)+(cos((x)*(x)))))+(1)\n",
      "((cos((x)+(cos((x)*(x)))))*((1)+((-1)*((sin((x)*(x)))*(((1)*(x))+((x)*(1)))))))+(0)\n"
     ]
    }
   ],
   "source": [
    "# takto by se to mělo používat\n",
    "x = identity()\n",
    "# sin(x + cos(x*x)) + 1\n",
    "f1 = sin(x + cos(x*x)) + cst(1)\n",
    "print(f1)\n",
    "print(f1.diff())"
   ]
  },
  {
   "attachments": {},
   "cell_type": "markdown",
   "metadata": {},
   "source": [
    "můj výstup byl:\n",
    "\n",
    "`sin(x + cos((x)*(x))) + 1`\n",
    "\n",
    "`(cos(x + cos((x)*(x))))*(1 + ((-1)*(sin((x)*(x))))*((1)*(x) + (x)*(1))) + 0`"
   ]
  },
  {
   "cell_type": "code",
   "execution_count": 80,
   "metadata": {},
   "outputs": [
    {
     "name": "stdout",
     "output_type": "stream",
     "text": [
      "(((x^2)+((2)*(x)))+(1))+((2)*(x^2))\n",
      "((((2)*(x^1))+(((0)*(x))+((2)*(1))))+(0))+(((0)*(x^2))+((2)*((2)*(x^1))))\n"
     ]
    }
   ],
   "source": [
    "x = identity()\n",
    "# x ^ 2 + 2x + 1 + 2x ^ 2\n",
    "f2 = mocnina(x,2) + cst(2)*x + cst(1) + cst(2)*mocnina(x,2)\n",
    "print(f2)\n",
    "print(f2.diff())\n"
   ]
  },
  {
   "attachments": {},
   "cell_type": "markdown",
   "metadata": {},
   "source": [
    "můj výstup byl:\n",
    "\n",
    "`(x)^2 + (2)*(x) + 1 + (2)*((x)^2)`\n",
    "\n",
    "`((2)*((x)^1))*(1) + (0)*(x) + (2)*(1) + 0 + (0)*((x)^2) + (2)*(((2)*((x)^1))*(1))`"
   ]
  },
  {
   "cell_type": "code",
   "execution_count": 81,
   "metadata": {},
   "outputs": [
    {
     "name": "stdout",
     "output_type": "stream",
     "text": [
      "((x^2)+((2)*(x)))+((e^x))\n",
      "(((2)*(x^1))+(((0)*(x))+((2)*(1))))+((e^x))\n"
     ]
    }
   ],
   "source": [
    "x = identity()\n",
    "# x ^ 2 + 2x + exp(x)\n",
    "f3 = mocnina(x,2) + cst(2)*x + exp(x)\n",
    "print(f3)\n",
    "print(f3.diff())\n"
   ]
  },
  {
   "attachments": {},
   "cell_type": "markdown",
   "metadata": {},
   "source": [
    "můj výstup byl:\n",
    "\n",
    "`(x)^2 + (2)*(x) + exp(x)`\n",
    "\n",
    "`((2)*((x)^1))*(1) + (0)*(x) + (2)*(1) + (exp(x))*(1)`\n"
   ]
  },
  {
   "attachments": {},
   "cell_type": "markdown",
   "metadata": {},
   "source": [
    "# Bonusový úkol:\n",
    "Doplňte ke všem třídám metodu `simplify()`, která provede zjednodušení výrazu. Například:\n",
    "- součet s nulou vrátí druhý operand\n",
    "- součin s nulou vrátí nulu\n",
    "- mocnina s exponentem 0 vrátí 1\n",
    "- mocnina s exponentem 1 vrátí první argument\n",
    "- součín dvou stejných argumentů vrátí mocninu s exponentem 2\n",
    "- součin konstant vrátí konstantu se součinem\n",
    "- ..."
   ]
  }
 ],
 "metadata": {
  "kernelspec": {
   "display_name": "Python 3",
   "language": "python",
   "name": "python3"
  },
  "language_info": {
   "codemirror_mode": {
    "name": "ipython",
    "version": 3
   },
   "file_extension": ".py",
   "mimetype": "text/x-python",
   "name": "python",
   "nbconvert_exporter": "python",
   "pygments_lexer": "ipython3",
   "version": "3.9.13"
  },
  "orig_nbformat": 4,
  "vscode": {
   "interpreter": {
    "hash": "e7370f93d1d0cde622a1f8e1c04877d8463912d04d973331ad4851f04de6915a"
   }
  }
 },
 "nbformat": 4,
 "nbformat_minor": 2
}
